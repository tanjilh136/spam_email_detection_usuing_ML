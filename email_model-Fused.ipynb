{
 "cells": [
  {
   "cell_type": "code",
   "execution_count": 54,
   "id": "a1d7c164",
   "metadata": {},
   "outputs": [],
   "source": [
    "import pandas as pd \n",
    "import numpy as np\n",
    "import nltk\n",
    "from nltk.corpus import stopwords\n",
    "import string\n",
    "import matplotlib.pyplot as plt"
   ]
  },
  {
   "cell_type": "code",
   "execution_count": 24,
   "id": "d243cbc4",
   "metadata": {},
   "outputs": [],
   "source": [
    "df = pd.read_csv(\"emails.csv\")"
   ]
  },
  {
   "cell_type": "code",
   "execution_count": 29,
   "id": "00294242",
   "metadata": {},
   "outputs": [
    {
     "data": {
      "text/plain": [
       "(5728, 2)"
      ]
     },
     "execution_count": 29,
     "metadata": {},
     "output_type": "execute_result"
    }
   ],
   "source": [
    "df.shape"
   ]
  },
  {
   "cell_type": "code",
   "execution_count": 53,
   "id": "77ccf28b",
   "metadata": {},
   "outputs": [],
   "source": [
    "#hoining new DATASET WITH EXISTING DATA SET \n",
    "\n",
    "import glob\n",
    "csv_list=glob.glob(r\"C:\\Users\\tanjil\\Documents\\Python Scripts\\CLASS\\os\\*.csv\")\n",
    "df_list = [pd.read_csv(csv_list[i]) for i in range(2,len(csv_list))]\n",
    "concatanated_mails_text = []\n",
    "\n",
    "for i in df_list:\n",
    "    concatanated_mails_text=concatanated_mails_text+list(i['Subject'])\n",
    "spam_list = [1 for i in concatanated_mails_text]\n",
    "reaL_val=pd.DataFrame()\n",
    "reaL_val['text']=concatanated_mails_text\n",
    "reaL_val['spam'] = spam_list"
   ]
  },
  {
   "cell_type": "code",
   "execution_count": 30,
   "id": "8d5f45a8",
   "metadata": {
    "scrolled": true
   },
   "outputs": [],
   "source": [
    "df = df.append(reaL_val)"
   ]
  },
  {
   "cell_type": "code",
   "execution_count": 32,
   "id": "b32f6f59",
   "metadata": {},
   "outputs": [
    {
     "data": {
      "text/plain": [
       "(5777, 2)"
      ]
     },
     "execution_count": 32,
     "metadata": {},
     "output_type": "execute_result"
    }
   ],
   "source": [
    "df.shape\n",
    "#df.head(2)"
   ]
  },
  {
   "cell_type": "code",
   "execution_count": 33,
   "id": "27d9ede5",
   "metadata": {},
   "outputs": [],
   "source": [
    "#Dropping Duplicates Value\n",
    "df.drop_duplicates(inplace =  True)"
   ]
  },
  {
   "cell_type": "code",
   "execution_count": 34,
   "id": "6a33652e",
   "metadata": {},
   "outputs": [
    {
     "data": {
      "text/plain": [
       "(5740, 2)"
      ]
     },
     "execution_count": 34,
     "metadata": {},
     "output_type": "execute_result"
    }
   ],
   "source": [
    "df.shape"
   ]
  },
  {
   "cell_type": "code",
   "execution_count": 35,
   "id": "6bbb413e",
   "metadata": {},
   "outputs": [
    {
     "data": {
      "text/plain": [
       "text    0\n",
       "spam    0\n",
       "dtype: int64"
      ]
     },
     "execution_count": 35,
     "metadata": {},
     "output_type": "execute_result"
    }
   ],
   "source": [
    "#checking for invalid NaN or null values \n",
    "df.isnull().sum()"
   ]
  },
  {
   "cell_type": "code",
   "execution_count": 36,
   "id": "fbc90e46",
   "metadata": {},
   "outputs": [
    {
     "name": "stderr",
     "output_type": "stream",
     "text": [
      "[nltk_data] Downloading package stopwords to\n",
      "[nltk_data]     C:\\Users\\tanjil\\AppData\\Roaming\\nltk_data...\n",
      "[nltk_data]   Package stopwords is already up-to-date!\n"
     ]
    },
    {
     "data": {
      "text/plain": [
       "True"
      ]
     },
     "execution_count": 36,
     "metadata": {},
     "output_type": "execute_result"
    }
   ],
   "source": [
    "#downloading Stop Words for filtering out them from the text feature \n",
    "nltk.download('stopwords')"
   ]
  },
  {
   "cell_type": "code",
   "execution_count": 37,
   "id": "fc068bd9",
   "metadata": {},
   "outputs": [],
   "source": [
    "#this functions remove puntuation and stop words from any feature that has messages or strings\n",
    "def process_text(text):\n",
    "    \n",
    "    # remmove puntuation\n",
    "    \n",
    "    no_pun = [char for char in text if char not in string.punctuation]\n",
    "    no_pun = ''.join(no_pun)\n",
    "    \n",
    "    #remove stop words\n",
    "    \n",
    "    clean_words = [ word for word in no_pun.split() if word.lower() not in stopwords.words('english')]\n",
    "    \n",
    "    return clean_words    "
   ]
  },
  {
   "cell_type": "code",
   "execution_count": 38,
   "id": "2068e193",
   "metadata": {},
   "outputs": [
    {
     "data": {
      "text/plain": [
       "0     [Subject, naturally, irresistible, corporate, ...\n",
       "1     [Subject, stock, trading, gunslinger, fanny, m...\n",
       "2     [Subject, unbelievable, new, homes, made, easy...\n",
       "3     [Subject, 4, color, printing, special, request...\n",
       "4     [Subject, money, get, software, cds, software,...\n",
       "                            ...                        \n",
       "44    [Buy, Driving, License, Belgium, posted, arche...\n",
       "45    [Contract, work, living, Belgium, posted, Saiy...\n",
       "46    [Tax, form, nonworking, card, holder, posted, ...\n",
       "47      [Permit, Brussels, Region, posted, stanamaze11]\n",
       "48                     [annex, 37, posted, shahsimmy07]\n",
       "Name: text, Length: 5740, dtype: object"
      ]
     },
     "execution_count": 38,
     "metadata": {},
     "output_type": "execute_result"
    }
   ],
   "source": [
    "#implemnetation of the thfuction over the message column\n",
    "df['text'].apply(process_text)"
   ]
  },
  {
   "cell_type": "code",
   "execution_count": 39,
   "id": "cb5cebc1",
   "metadata": {},
   "outputs": [],
   "source": [
    "#convert a collection of text to matrix of tokens(represnetation of words ) counts in order to fetch the feature to model to learn\n",
    "\n",
    "from sklearn.feature_extraction.text import CountVectorizer\n",
    "message_bag_of_words = CountVectorizer(analyzer = process_text).fit_transform(df['text'])"
   ]
  },
  {
   "cell_type": "code",
   "execution_count": 40,
   "id": "42856b58",
   "metadata": {},
   "outputs": [
    {
     "name": "stdout",
     "output_type": "stream",
     "text": [
      "  (0, 3718)\t1\n",
      "  (0, 23493)\t1\n",
      "  (0, 18961)\t1\n",
      "  (0, 10179)\t1\n",
      "  (0, 17816)\t1\n",
      "  (0, 21261)\t1\n",
      "  (0, 28111)\t1\n",
      "  (0, 16794)\t1\n",
      "  (0, 28235)\t1\n",
      "  (0, 9410)\t3\n",
      "  (0, 21775)\t2\n",
      "  (0, 15549)\t1\n",
      "  (0, 32730)\t1\n",
      "  (0, 18358)\t1\n",
      "  (0, 19006)\t1\n",
      "  (0, 16209)\t2\n",
      "  (0, 8168)\t1\n",
      "  (0, 21073)\t3\n",
      "  (0, 32447)\t1\n",
      "  (0, 32096)\t1\n",
      "  (0, 24963)\t1\n",
      "  (0, 36172)\t2\n",
      "  (0, 21552)\t2\n",
      "  (0, 33166)\t1\n",
      "  (0, 23164)\t2\n",
      "  :\t:\n",
      "  (0, 30344)\t1\n",
      "  (0, 12408)\t1\n",
      "  (0, 36577)\t1\n",
      "  (0, 33691)\t1\n",
      "  (0, 10971)\t1\n",
      "  (0, 4340)\t1\n",
      "  (0, 7283)\t1\n",
      "  (0, 15703)\t1\n",
      "  (0, 7523)\t1\n",
      "  (0, 359)\t1\n",
      "  (0, 29984)\t1\n",
      "  (0, 16520)\t1\n",
      "  (0, 27349)\t1\n",
      "  (0, 34929)\t1\n",
      "  (0, 4885)\t1\n",
      "  (0, 8462)\t1\n",
      "  (0, 14316)\t1\n",
      "  (0, 14649)\t1\n",
      "  (0, 32745)\t1\n",
      "  (0, 21209)\t1\n",
      "  (0, 29004)\t1\n",
      "  (0, 9202)\t1\n",
      "  (0, 21120)\t1\n",
      "  (0, 26505)\t1\n",
      "  (0, 18663)\t1\n",
      "  (0, 3718)\t1\n",
      "  (0, 32227)\t1\n",
      "  (0, 34131)\t1\n",
      "  (0, 16580)\t1\n",
      "  (0, 14479)\t1\n",
      "  (0, 22345)\t1\n",
      "  (0, 23289)\t1\n",
      "  (0, 9278)\t1\n",
      "  (0, 5755)\t1\n",
      "  (0, 25649)\t1\n",
      "  (0, 20821)\t3\n",
      "  (0, 13807)\t1\n",
      "  (0, 25777)\t1\n",
      "  (0, 27897)\t1\n",
      "  (0, 30374)\t1\n",
      "  (0, 16461)\t1\n",
      "  (0, 34400)\t3\n",
      "  (0, 31293)\t1\n",
      "  (0, 19668)\t1\n",
      "  (0, 33131)\t1\n",
      "  (0, 37039)\t3\n",
      "  (0, 8443)\t1\n",
      "  (0, 9959)\t1\n",
      "  (0, 9039)\t1\n",
      "  (0, 20762)\t1\n",
      "  :\t:\n",
      "  (0, 11367)\t1\n",
      "  (0, 9020)\t1\n",
      "  (0, 16683)\t1\n",
      "  (0, 18177)\t1\n",
      "  (0, 22038)\t1\n",
      "  (0, 17107)\t1\n",
      "  (0, 13023)\t1\n",
      "  (0, 12720)\t1\n",
      "  (0, 29954)\t1\n",
      "  (0, 6975)\t1\n",
      "  (0, 12542)\t1\n",
      "  (0, 26172)\t1\n",
      "  (0, 25193)\t1\n",
      "  (0, 18328)\t1\n",
      "  (0, 17679)\t1\n",
      "  (0, 25664)\t1\n",
      "  (0, 6438)\t1\n",
      "  (0, 23394)\t1\n",
      "  (0, 5777)\t1\n",
      "  (0, 12898)\t1\n",
      "  (0, 8742)\t1\n",
      "  (0, 24680)\t1\n",
      "  (0, 26105)\t1\n",
      "  (0, 11746)\t1\n",
      "  (0, 4566)\t1\n",
      "  (0, 3718)\t1\n",
      "  (0, 36172)\t1\n",
      "  (0, 21417)\t1\n",
      "  (0, 12757)\t1\n",
      "  (0, 21120)\t1\n",
      "  (0, 34708)\t1\n",
      "  (0, 23715)\t1\n",
      "  (0, 17392)\t1\n",
      "  (0, 17940)\t1\n",
      "  (0, 35989)\t1\n",
      "  (0, 30903)\t1\n",
      "  (0, 17387)\t1\n",
      "  (0, 26756)\t1\n",
      "  (0, 5316)\t1\n",
      "  (0, 1978)\t1\n",
      "  (0, 715)\t1\n",
      "  (0, 17378)\t1\n",
      "  (0, 21018)\t1\n",
      "  (0, 1343)\t1\n",
      "  (0, 2825)\t1\n",
      "  (0, 14951)\t1\n",
      "  (0, 27970)\t1\n",
      "  (0, 24383)\t1\n",
      "  (0, 14301)\t1\n",
      "  (0, 34736)\t1\n",
      "  (0, 10424)\t1\n",
      "  (0, 36089)\t1\n",
      "  (0, 14395)\t1\n",
      "  (0, 33061)\t1\n",
      "  (0, 4247)\t1\n",
      "  (0, 20845)\t1\n",
      "  (0, 33785)\t1\n",
      "  (0, 24655)\t1\n",
      "  (0, 5570)\t1\n",
      "  (0, 35729)\t1\n",
      "  (0, 9475)\t1\n",
      "  (0, 357)\t1\n",
      "  (0, 22650)\t1\n",
      "  (0, 26553)\t1\n",
      "  (0, 5312)\t1\n",
      "  (0, 15203)\t1\n",
      "  (0, 15308)\t1\n",
      "  (0, 16975)\t1\n",
      "  (0, 12312)\t1\n",
      "  (0, 26129)\t1\n",
      "  (0, 3718)\t1\n",
      "  (0, 18358)\t2\n",
      "  (0, 15203)\t2\n",
      "  (0, 1824)\t1\n",
      "  (0, 9258)\t1\n",
      "  (0, 27006)\t2\n",
      "  (0, 31662)\t1\n",
      "  (0, 28824)\t2\n",
      "  (0, 4093)\t2\n",
      "  (0, 8981)\t4\n",
      "  (0, 27001)\t2\n",
      "  (0, 35535)\t2\n",
      "  (0, 24727)\t2\n",
      "  (0, 25545)\t2\n",
      "  (0, 15216)\t2\n",
      "  (0, 25950)\t1\n",
      "  (0, 2550)\t2\n",
      "  (0, 1539)\t2\n",
      "  (0, 3100)\t1\n",
      "  (0, 14570)\t1\n",
      "  (0, 3106)\t1\n",
      "  (0, 12695)\t2\n",
      "  (0, 21479)\t2\n",
      "  (0, 27908)\t1\n",
      "  (0, 16183)\t1\n",
      "  (0, 9279)\t1\n",
      "  (0, 16182)\t1\n",
      "  (0, 16337)\t1\n",
      "  (0, 2193)\t1\n",
      "  (0, 6029)\t1\n",
      "  (0, 7951)\t1\n",
      "  (0, 28042)\t1\n",
      "  (0, 18970)\t1\n",
      "  (0, 7741)\t1\n",
      "  (0, 3379)\t1\n",
      "  (0, 22362)\t1\n",
      "  (0, 4258)\t1\n",
      "  (0, 31469)\t1\n",
      "  (0, 3718)\t1\n",
      "  (0, 22897)\t1\n",
      "  (0, 15956)\t1\n",
      "  (0, 31436)\t2\n",
      "  (0, 8268)\t1\n",
      "  (0, 9427)\t1\n",
      "  (0, 16361)\t1\n",
      "  (0, 16467)\t1\n",
      "  (0, 24477)\t1\n",
      "  (0, 4715)\t1\n",
      "  (0, 6638)\t1\n",
      "  (0, 37046)\t1\n",
      "  (0, 34129)\t1\n",
      "  (0, 14880)\t1\n",
      "  (0, 11031)\t1\n",
      "  (0, 9302)\t1\n",
      "  (0, 13360)\t1\n",
      "  (0, 21815)\t1\n",
      "  (0, 3718)\t1\n",
      "  (0, 12695)\t1\n",
      "  (0, 16361)\t1\n",
      "  (0, 23900)\t1\n",
      "  (0, 17062)\t1\n",
      "  (0, 36237)\t1\n",
      "  (0, 22195)\t1\n",
      "  (0, 30655)\t1\n",
      "  (0, 16458)\t1\n",
      "  (0, 24599)\t1\n",
      "  (0, 26235)\t1\n",
      "  (0, 18780)\t1\n",
      "  (0, 24543)\t1\n",
      "  (0, 17835)\t1\n",
      "  (0, 24560)\t1\n",
      "  (0, 25869)\t1\n",
      "  (0, 14660)\t1\n",
      "  (0, 21383)\t1\n",
      "  (0, 30866)\t1\n",
      "  (0, 17075)\t1\n",
      "  (0, 35270)\t1\n",
      "  (0, 30667)\t1\n",
      "  (0, 27793)\t1\n",
      "  (0, 10239)\t1\n",
      "  (0, 20227)\t5\n",
      "  :\t:\n",
      "  (0, 35271)\t1\n",
      "  (0, 9677)\t1\n",
      "  (0, 34669)\t1\n",
      "  (0, 4971)\t1\n",
      "  (0, 30001)\t1\n",
      "  (0, 18299)\t1\n",
      "  (0, 2915)\t1\n",
      "  (0, 34034)\t1\n",
      "  (0, 9678)\t1\n",
      "  (0, 20608)\t1\n",
      "  (0, 24135)\t1\n",
      "  (0, 36720)\t1\n",
      "  (0, 26392)\t1\n",
      "  (0, 17307)\t1\n",
      "  (0, 24974)\t1\n",
      "  (0, 4697)\t1\n",
      "  (0, 13692)\t1\n",
      "  (0, 2130)\t1\n",
      "  (0, 22547)\t1\n",
      "  (0, 10688)\t1\n",
      "  (0, 641)\t1\n",
      "  (0, 10288)\t1\n",
      "  (0, 11618)\t1\n",
      "  (0, 23791)\t1\n",
      "  (0, 10966)\t1\n"
     ]
    }
   ],
   "source": [
    "d=0\n",
    "for i in message_bag_of_words:\n",
    "    print(i)\n",
    "    if d==5:\n",
    "        break\n",
    "    d+=1\n",
    "    "
   ]
  },
  {
   "cell_type": "code",
   "execution_count": 41,
   "id": "79b12111",
   "metadata": {},
   "outputs": [
    {
     "data": {
      "text/plain": [
       "(5740, 37376)"
      ]
     },
     "execution_count": 41,
     "metadata": {},
     "output_type": "execute_result"
    }
   ],
   "source": [
    "#get the shape of messages_bow \n",
    "message_bag_of_words.shape"
   ]
  },
  {
   "cell_type": "code",
   "execution_count": 42,
   "id": "5abfa5c9",
   "metadata": {},
   "outputs": [],
   "source": [
    "from sklearn.model_selection import train_test_split\n",
    "x_train, x_test, y_train, y_test = train_test_split(message_bag_of_words, df['spam'],test_size = 0.2, random_state = 0)"
   ]
  },
  {
   "cell_type": "markdown",
   "id": "0206c922",
   "metadata": {},
   "source": [
    "### Decision Tree"
   ]
  },
  {
   "cell_type": "code",
   "execution_count": 43,
   "id": "7c19fd2d",
   "metadata": {},
   "outputs": [
    {
     "name": "stdout",
     "output_type": "stream",
     "text": [
      "\n",
      "Y_predict \n",
      "[1 0 0 ... 0 0 0]\n",
      "\n",
      "y_test \n",
      "[1 0 0 ... 0 0 0]\n",
      "\n",
      "classification_report \n",
      "              precision    recall  f1-score   support\n",
      "\n",
      "           0       0.97      0.98      0.97       879\n",
      "           1       0.92      0.91      0.92       269\n",
      "\n",
      "    accuracy                           0.96      1148\n",
      "   macro avg       0.95      0.94      0.95      1148\n",
      "weighted avg       0.96      0.96      0.96      1148\n",
      "\n",
      "\n",
      "confusion_matrix \n",
      "[[858  21]\n",
      " [ 24 245]]\n",
      "\n",
      " Accuracy Score \n",
      " 0.960801393728223\n"
     ]
    }
   ],
   "source": [
    "from sklearn.tree import DecisionTreeClassifier\n",
    "DecisionTree = DecisionTreeClassifier().fit(x_train,y_train)\n",
    "\n",
    "y_predict = DecisionTree.predict(x_test)\n",
    "print(f\"\\nY_predict \\n{y_predict}\")\n",
    "print(f\"\\ny_test \\n{y_test.values}\")\n",
    "#evaluate \n",
    "from sklearn.metrics import classification_report, confusion_matrix , accuracy_score\n",
    "print(f\"\\nclassification_report \\n{classification_report(y_test,y_predict)}\")\n",
    "print(f\"\\nconfusion_matrix \\n{confusion_matrix(y_test,y_predict)}\")\n",
    "print(f\"\\n Accuracy Score \\n {accuracy_score(y_test,y_predict)}\")"
   ]
  },
  {
   "cell_type": "markdown",
   "id": "54b80776",
   "metadata": {},
   "source": [
    "## naive Bayes MultinomialNB"
   ]
  },
  {
   "cell_type": "code",
   "execution_count": 44,
   "id": "94627a99",
   "metadata": {},
   "outputs": [
    {
     "name": "stdout",
     "output_type": "stream",
     "text": [
      "\n",
      "Y_predict \n",
      "[1 0 0 ... 0 0 0]\n",
      "\n",
      "y_test \n",
      "[1 0 0 ... 0 0 0]\n",
      "\n",
      "classification_report \n",
      "              precision    recall  f1-score   support\n",
      "\n",
      "           0       1.00      0.99      0.99       879\n",
      "           1       0.96      0.99      0.98       269\n",
      "\n",
      "    accuracy                           0.99      1148\n",
      "   macro avg       0.98      0.99      0.99      1148\n",
      "weighted avg       0.99      0.99      0.99      1148\n",
      "\n",
      "\n",
      "confusion_matrix \n",
      "[[869  10]\n",
      " [  2 267]]\n",
      "\n",
      " Accuracy Score \n",
      " 0.9895470383275261\n"
     ]
    }
   ],
   "source": [
    "#create and train the naive Bayes Classifier \n",
    "from sklearn.naive_bayes import MultinomialNB\n",
    "MultinomialNB = MultinomialNB().fit(x_train,y_train)\n",
    "y_predict = MultinomialNB.predict(x_test)\n",
    "print(f\"\\nY_predict \\n{y_predict}\")\n",
    "print(f\"\\ny_test \\n{y_test.values}\")\n",
    "#evaluate \n",
    "from sklearn.metrics import classification_report, confusion_matrix , accuracy_score\n",
    "print(f\"\\nclassification_report \\n{classification_report(y_test,y_predict)}\")\n",
    "print(f\"\\nconfusion_matrix \\n{confusion_matrix(y_test,y_predict)}\")\n",
    "print(f\"\\n Accuracy Score \\n {accuracy_score(y_test,y_predict)}\")"
   ]
  },
  {
   "cell_type": "markdown",
   "id": "0a7b98c3",
   "metadata": {},
   "source": [
    "### KNN(K- Nearest Neighbors) classifier ."
   ]
  },
  {
   "cell_type": "code",
   "execution_count": 45,
   "id": "9fb0916a",
   "metadata": {},
   "outputs": [
    {
     "name": "stdout",
     "output_type": "stream",
     "text": [
      "\n",
      "Y_predict \n",
      "[0 0 0 ... 0 0 0]\n",
      "\n",
      "y_test \n",
      "[1 0 0 ... 0 0 0]\n",
      "\n",
      "classification_report \n",
      "              precision    recall  f1-score   support\n",
      "\n",
      "           0       0.97      0.89      0.92       879\n",
      "           1       0.71      0.90      0.79       269\n",
      "\n",
      "    accuracy                           0.89      1148\n",
      "   macro avg       0.84      0.89      0.86      1148\n",
      "weighted avg       0.90      0.89      0.89      1148\n",
      "\n",
      "\n",
      "confusion_matrix \n",
      "[[779 100]\n",
      " [ 28 241]]\n",
      "\n",
      " Accuracy Score \n",
      " 0.8885017421602788\n"
     ]
    }
   ],
   "source": [
    "from sklearn.neighbors import KNeighborsClassifier\n",
    "knn = KNeighborsClassifier().fit(x_train,y_train)\n",
    "\n",
    "y_predict = knn.predict(x_test)\n",
    "print(f\"\\nY_predict \\n{y_predict}\")\n",
    "print(f\"\\ny_test \\n{y_test.values}\")\n",
    "#evaluate \n",
    "from sklearn.metrics import classification_report, confusion_matrix , accuracy_score\n",
    "print(f\"\\nclassification_report \\n{classification_report(y_test,y_predict)}\")\n",
    "print(f\"\\nconfusion_matrix \\n{confusion_matrix(y_test,y_predict)}\")\n",
    "print(f\"\\n Accuracy Score \\n {accuracy_score(y_test,y_predict)}\")"
   ]
  },
  {
   "cell_type": "markdown",
   "id": "ac44dffd",
   "metadata": {},
   "source": [
    "### Support Vector classifier."
   ]
  },
  {
   "cell_type": "code",
   "execution_count": 46,
   "id": "5a4d8da3",
   "metadata": {},
   "outputs": [
    {
     "name": "stdout",
     "output_type": "stream",
     "text": [
      "\n",
      "Y_predict \n",
      "[1 0 0 ... 0 0 0]\n",
      "\n",
      "y_test \n",
      "[1 0 0 ... 0 0 0]\n",
      "\n",
      "classification_report \n",
      "              precision    recall  f1-score   support\n",
      "\n",
      "           0       0.97      1.00      0.98       879\n",
      "           1       0.98      0.88      0.93       269\n",
      "\n",
      "    accuracy                           0.97      1148\n",
      "   macro avg       0.97      0.94      0.96      1148\n",
      "weighted avg       0.97      0.97      0.97      1148\n",
      "\n",
      "\n",
      "confusion_matrix \n",
      "[[875   4]\n",
      " [ 31 238]]\n",
      "\n",
      " Accuracy Score \n",
      " 0.9695121951219512\n"
     ]
    }
   ],
   "source": [
    "from sklearn.svm import SVC\n",
    "svc = SVC().fit(x_train,y_train)\n",
    "\n",
    "y_predict = svc.predict(x_test)\n",
    "print(f\"\\nY_predict \\n{y_predict}\")\n",
    "print(f\"\\ny_test \\n{y_test.values}\")\n",
    "#evaluate \n",
    "from sklearn.metrics import classification_report, confusion_matrix , accuracy_score\n",
    "print(f\"\\nclassification_report \\n{classification_report(y_test,y_predict)}\")\n",
    "print(f\"\\nconfusion_matrix \\n{confusion_matrix(y_test,y_predict)}\")\n",
    "print(f\"\\n Accuracy Score \\n {accuracy_score(y_test,y_predict)}\")"
   ]
  },
  {
   "cell_type": "markdown",
   "id": "ca357fef",
   "metadata": {},
   "source": [
    "### Ensamble Learning Algorithm"
   ]
  },
  {
   "cell_type": "code",
   "execution_count": 47,
   "id": "4761978e",
   "metadata": {},
   "outputs": [
    {
     "name": "stdout",
     "output_type": "stream",
     "text": [
      "\n",
      "Y_predict \n",
      "[1 0 0 ... 0 0 0]\n",
      "\n",
      "y_test \n",
      "[1 0 0 ... 0 0 0]\n",
      "\n",
      "classification_report \n",
      "              precision    recall  f1-score   support\n",
      "\n",
      "           0       0.98      1.00      0.99       879\n",
      "           1       0.99      0.94      0.97       269\n",
      "\n",
      "    accuracy                           0.99      1148\n",
      "   macro avg       0.99      0.97      0.98      1148\n",
      "weighted avg       0.99      0.99      0.99      1148\n",
      "\n",
      "\n",
      "confusion_matrix \n",
      "[[877   2]\n",
      " [ 15 254]]\n",
      "\n",
      " Accuracy Score \n",
      " 0.985191637630662\n"
     ]
    }
   ],
   "source": [
    "from sklearn. ensemble import VotingClassifier\n",
    "votingClf = VotingClassifier(estimators=[('decisionTree',DecisionTree),\n",
    "('naiveBayes',MultinomialNB),('knn',knn),('svc',svc)],voting='hard')\n",
    "votingClf.fit(x_train,y_train)\n",
    "\n",
    "y_predict = votingClf.predict(x_test)\n",
    "print(f\"\\nY_predict \\n{y_predict}\")\n",
    "print(f\"\\ny_test \\n{y_test.values}\")\n",
    "#evaluate \n",
    "from sklearn.metrics import classification_report, confusion_matrix , accuracy_score\n",
    "print(f\"\\nclassification_report \\n{classification_report(y_test,y_predict)}\")\n",
    "print(f\"\\nconfusion_matrix \\n{confusion_matrix(y_test,y_predict)}\")\n",
    "print(f\"\\n Accuracy Score \\n {accuracy_score(y_test,y_predict)}\")"
   ]
  },
  {
   "cell_type": "markdown",
   "id": "4eb45245",
   "metadata": {},
   "source": [
    "### Bagging Classifier"
   ]
  },
  {
   "cell_type": "code",
   "execution_count": 48,
   "id": "222d6ced",
   "metadata": {},
   "outputs": [
    {
     "name": "stdout",
     "output_type": "stream",
     "text": [
      "\n",
      "Y_predict \n",
      "[1 0 0 ... 0 0 0]\n",
      "\n",
      "y_test \n",
      "[1 0 0 ... 0 0 0]\n",
      "\n",
      "classification_report \n",
      "              precision    recall  f1-score   support\n",
      "\n",
      "           0       0.97      0.98      0.98       879\n",
      "           1       0.93      0.91      0.92       269\n",
      "\n",
      "    accuracy                           0.96      1148\n",
      "   macro avg       0.95      0.94      0.95      1148\n",
      "weighted avg       0.96      0.96      0.96      1148\n",
      "\n",
      "\n",
      "confusion_matrix \n",
      "[[862  17]\n",
      " [ 25 244]]\n",
      "\n",
      " Accuracy Score \n",
      " 0.9634146341463414\n"
     ]
    }
   ],
   "source": [
    "from sklearn.ensemble import BaggingClassifier\n",
    "bagging = BaggingClassifier(n_estimators=4)\n",
    "bagging.fit(x_train,y_train)\n",
    "\n",
    "y_predict = bagging.predict(x_test)\n",
    "print(f\"\\nY_predict \\n{y_predict}\")\n",
    "print(f\"\\ny_test \\n{y_test.values}\")\n",
    "#evaluate \n",
    "from sklearn.metrics import classification_report, confusion_matrix , accuracy_score\n",
    "print(f\"\\nclassification_report \\n{classification_report(y_test,y_predict)}\")\n",
    "print(f\"\\nconfusion_matrix \\n{confusion_matrix(y_test,y_predict)}\")\n",
    "print(f\"\\n Accuracy Score \\n {accuracy_score(y_test,y_predict)}\")"
   ]
  },
  {
   "cell_type": "markdown",
   "id": "25bd328b",
   "metadata": {},
   "source": [
    "### Ada Boost"
   ]
  },
  {
   "cell_type": "code",
   "execution_count": 49,
   "id": "6f106d33",
   "metadata": {},
   "outputs": [
    {
     "name": "stdout",
     "output_type": "stream",
     "text": [
      "\n",
      "Y_predict \n",
      "[1 0 0 ... 1 0 0]\n",
      "\n",
      "y_test \n",
      "[1 0 0 ... 0 0 0]\n",
      "\n",
      "classification_report \n",
      "              precision    recall  f1-score   support\n",
      "\n",
      "           0       0.98      0.86      0.92       879\n",
      "           1       0.67      0.96      0.79       269\n",
      "\n",
      "    accuracy                           0.88      1148\n",
      "   macro avg       0.83      0.91      0.85      1148\n",
      "weighted avg       0.91      0.88      0.89      1148\n",
      "\n",
      "\n",
      "confusion_matrix \n",
      "[[752 127]\n",
      " [ 12 257]]\n",
      "\n",
      " Accuracy Score \n",
      " 0.8789198606271778\n"
     ]
    }
   ],
   "source": [
    "from sklearn.ensemble import AdaBoostClassifier\n",
    "adaBoost = AdaBoostClassifier(n_estimators=4)\n",
    "adaBoost.fit(x_train,y_train)\n",
    "\n",
    "y_predict = adaBoost.predict(x_test)\n",
    "print(f\"\\nY_predict \\n{y_predict}\")\n",
    "print(f\"\\ny_test \\n{y_test.values}\")\n",
    "#evaluate \n",
    "from sklearn.metrics import classification_report, confusion_matrix , accuracy_score\n",
    "print(f\"\\nclassification_report \\n{classification_report(y_test,y_predict)}\")\n",
    "print(f\"\\nconfusion_matrix \\n{confusion_matrix(y_test,y_predict)}\")\n",
    "print(f\"\\n Accuracy Score \\n {accuracy_score(y_test,y_predict)}\")"
   ]
  },
  {
   "cell_type": "markdown",
   "id": "e0dd8bbe",
   "metadata": {},
   "source": [
    "### Random Forest Classifier"
   ]
  },
  {
   "cell_type": "code",
   "execution_count": 50,
   "id": "88e96671",
   "metadata": {},
   "outputs": [
    {
     "name": "stdout",
     "output_type": "stream",
     "text": [
      "\n",
      "Y_predict \n",
      "[1 0 0 ... 0 0 0]\n",
      "\n",
      "y_test \n",
      "[1 0 0 ... 0 0 0]\n",
      "\n",
      "classification_report \n",
      "              precision    recall  f1-score   support\n",
      "\n",
      "           0       0.93      0.99      0.96       879\n",
      "           1       0.97      0.77      0.85       269\n",
      "\n",
      "    accuracy                           0.94      1148\n",
      "   macro avg       0.95      0.88      0.91      1148\n",
      "weighted avg       0.94      0.94      0.94      1148\n",
      "\n",
      "\n",
      "confusion_matrix \n",
      "[[872   7]\n",
      " [ 63 206]]\n",
      "\n",
      " Accuracy Score \n",
      " 0.9390243902439024\n"
     ]
    }
   ],
   "source": [
    "from sklearn.ensemble import RandomForestClassifier\n",
    "randomForest = RandomForestClassifier(n_estimators=4)\n",
    "randomForest.fit(x_train,y_train)\n",
    "\n",
    "y_predict = randomForest.predict(x_test)\n",
    "print(f\"\\nY_predict \\n{y_predict}\")\n",
    "print(f\"\\ny_test \\n{y_test.values}\")\n",
    "#evaluate \n",
    "from sklearn.metrics import classification_report, confusion_matrix , accuracy_score\n",
    "print(f\"\\nclassification_report \\n{classification_report(y_test,y_predict)}\")\n",
    "print(f\"\\nconfusion_matrix \\n{confusion_matrix(y_test,y_predict)}\")\n",
    "print(f\"\\n Accuracy Score \\n {accuracy_score(y_test,y_predict)}\")"
   ]
  },
  {
   "cell_type": "code",
   "execution_count": 51,
   "id": "a8bcc5dc",
   "metadata": {},
   "outputs": [],
   "source": [
    "dict_acc ={'decisionTree':accuracy_score(y_test,DecisionTree.predict(x_test)),\n",
    "           'naiveBayes':accuracy_score(y_test,MultinomialNB.predict(x_test)),\n",
    "           'KNN':accuracy_score(y_test,knn.predict(x_test)),\n",
    "           'SVC':accuracy_score(y_test,svc.predict(x_test)),\n",
    "           'Ensemble_voting':accuracy_score(y_test,votingClf.predict(x_test)),\n",
    "           'bagging':accuracy_score(y_test,bagging.predict(x_test)),\n",
    "           'AdaBoost':accuracy_score(y_test,adaBoost.predict(x_test)),\n",
    "           'Random Forest':accuracy_score(y_test,randomForest.predict(x_test))\n",
    "           }"
   ]
  },
  {
   "cell_type": "code",
   "execution_count": 52,
   "id": "a5ecfba8",
   "metadata": {},
   "outputs": [
    {
     "name": "stdout",
     "output_type": "stream",
     "text": [
      "decisionTree\t\n",
      "\t0.960801393728223\n",
      "naiveBayes\t\n",
      "\t0.9895470383275261\n",
      "KNN\t\n",
      "\t0.8885017421602788\n",
      "SVC\t\n",
      "\t0.9695121951219512\n",
      "Ensemble_voting\t\n",
      "\t0.985191637630662\n",
      "bagging\t\n",
      "\t0.9634146341463414\n",
      "AdaBoost\t\n",
      "\t0.8789198606271778\n",
      "Random Forest\t\n",
      "\t0.9390243902439024\n"
     ]
    }
   ],
   "source": [
    "for i in dict_acc:\n",
    "    print(f\"{i}\\t\\n\\t{dict_acc[i]}\")"
   ]
  },
  {
   "cell_type": "code",
   "execution_count": 65,
   "id": "87264bd8",
   "metadata": {},
   "outputs": [
    {
     "data": {
      "image/png": "[encoded data removed]",
      "text/plain": [
       "<Figure size 720x576 with 1 Axes>"
      ]
     },
     "metadata": {
      "needs_background": "light"
     },
     "output_type": "display_data"
    }
   ],
   "source": [
    "keyes = [i for i in dict_acc]\n",
    "values = [dict_acc[i]for i in dict_acc]\n",
    "\n",
    "plt.figure(figsize=(10,8))\n",
    "plt.plot(keyes,values)\n",
    "plt.scatter(list(range(8)),values)\n",
    "\n",
    "\n",
    "plt.show()"
   ]
  },
  {
   "cell_type": "code",
   "execution_count": 66,
   "id": "68bfb0de",
   "metadata": {},
   "outputs": [],
   "source": [
    "import json\n",
    " \n",
    "# Opening JSON file\n",
    "with open('email_model.json') as json_file:\n",
    "    data = json.load(json_file)"
   ]
  },
  {
   "cell_type": "code",
   "execution_count": 78,
   "id": "1016ab38",
   "metadata": {},
   "outputs": [
    {
     "data": {
      "image/png": "[encoded data removed]",
      "text/plain": [
       "<Figure size 720x576 with 1 Axes>"
      ]
     },
     "metadata": {
      "needs_background": "light"
     },
     "output_type": "display_data"
    }
   ],
   "source": [
    "keyes = [i for i in dict_acc]\n",
    "values = [dict_acc[i] for i in dict_acc]\n",
    "\n",
    "keyes2 = [i for i in data]\n",
    "values2 = [data[i]for i in data]\n",
    "\n",
    "plt.figure(figsize=(10,8))\n",
    "\n",
    "plt.plot(keyes,values,label = \"After adding\")\n",
    "plt.scatter(list(range(8)),values)\n",
    "\n",
    "plt.plot(keyes2,values2,label = \"before adding\")\n",
    "plt.scatter(list(range(8)),values2)\n",
    "plt.legend()\n",
    "\n",
    "plt.show()"
   ]
  },
  {
   "cell_type": "code",
   "execution_count": null,
   "id": "bf8a81ca",
   "metadata": {},
   "outputs": [],
   "source": []
  }
 ],
 "metadata": {
  "kernelspec": {
   "display_name": "Python 3 (ipykernel)",
   "language": "python",
   "name": "python3"
  },
  "language_info": {
   "codemirror_mode": {
    "name": "ipython",
    "version": 3
   },
   "file_extension": ".py",
   "mimetype": "text/x-python",
   "name": "python",
   "nbconvert_exporter": "python",
   "pygments_lexer": "ipython3",
   "version": "3.7.11"
  }
 },
 "nbformat": 4,
 "nbformat_minor": 5
}
