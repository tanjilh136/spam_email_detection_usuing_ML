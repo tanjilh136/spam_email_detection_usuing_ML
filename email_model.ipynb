{
 "cells": [
  {
   "cell_type": "markdown",
   "id": "721b41a0",
   "metadata": {},
   "source": [
    "# This model is trained with public dataset which have been collected from kaggle "
   ]
  },
  {
   "cell_type": "code",
   "execution_count": 1,
   "id": "a1d7c164",
   "metadata": {},
   "outputs": [],
   "source": [
    "import pandas as pd \n",
    "import numpy as np\n",
    "import nltk\n",
    "from nltk.corpus import stopwords\n",
    "import string\n",
    "import matplotlib.pyplot as plt"
   ]
  },
  {
   "cell_type": "code",
   "execution_count": 3,
   "id": "d243cbc4",
   "metadata": {},
   "outputs": [],
   "source": [
    "df = pd.read_csv(\"emails.csv\")"
   ]
  },
  {
   "cell_type": "code",
   "execution_count": 4,
   "id": "842b4efe",
   "metadata": {},
   "outputs": [
    {
     "name": "stdout",
     "output_type": "stream",
     "text": [
      "<class 'pandas.core.frame.DataFrame'>\n",
      "RangeIndex: 5728 entries, 0 to 5727\n",
      "Data columns (total 2 columns):\n",
      " #   Column  Non-Null Count  Dtype \n",
      "---  ------  --------------  ----- \n",
      " 0   text    5728 non-null   object\n",
      " 1   spam    5728 non-null   int64 \n",
      "dtypes: int64(1), object(1)\n",
      "memory usage: 89.6+ KB\n"
     ]
    }
   ],
   "source": [
    "df.info()"
   ]
  },
  {
   "cell_type": "code",
   "execution_count": 15,
   "id": "bd169b0c",
   "metadata": {},
   "outputs": [
    {
     "data": {
      "text/plain": [
       "(1368, 2)"
      ]
     },
     "execution_count": 15,
     "metadata": {},
     "output_type": "execute_result"
    }
   ],
   "source": [
    "df.loc[df['spam']==1].shape"
   ]
  },
  {
   "cell_type": "code",
   "execution_count": 3,
   "id": "8d5f45a8",
   "metadata": {
    "scrolled": true
   },
   "outputs": [
    {
     "data": {
      "text/html": [
       "<div>\n",
       "<style scoped>\n",
       "    .dataframe tbody tr th:only-of-type {\n",
       "        vertical-align: middle;\n",
       "    }\n",
       "\n",
       "    .dataframe tbody tr th {\n",
       "        vertical-align: top;\n",
       "    }\n",
       "\n",
       "    .dataframe thead th {\n",
       "        text-align: right;\n",
       "    }\n",
       "</style>\n",
       "<table border=\"1\" class=\"dataframe\">\n",
       "  <thead>\n",
       "    <tr style=\"text-align: right;\">\n",
       "      <th></th>\n",
       "      <th>text</th>\n",
       "      <th>spam</th>\n",
       "    </tr>\n",
       "  </thead>\n",
       "  <tbody>\n",
       "    <tr>\n",
       "      <th>0</th>\n",
       "      <td>Subject: naturally irresistible your corporate...</td>\n",
       "      <td>1</td>\n",
       "    </tr>\n",
       "    <tr>\n",
       "      <th>1</th>\n",
       "      <td>Subject: the stock trading gunslinger  fanny i...</td>\n",
       "      <td>1</td>\n",
       "    </tr>\n",
       "    <tr>\n",
       "      <th>2</th>\n",
       "      <td>Subject: unbelievable new homes made easy  im ...</td>\n",
       "      <td>1</td>\n",
       "    </tr>\n",
       "    <tr>\n",
       "      <th>3</th>\n",
       "      <td>Subject: 4 color printing special  request add...</td>\n",
       "      <td>1</td>\n",
       "    </tr>\n",
       "    <tr>\n",
       "      <th>4</th>\n",
       "      <td>Subject: do not have money , get software cds ...</td>\n",
       "      <td>1</td>\n",
       "    </tr>\n",
       "    <tr>\n",
       "      <th>...</th>\n",
       "      <td>...</td>\n",
       "      <td>...</td>\n",
       "    </tr>\n",
       "    <tr>\n",
       "      <th>5723</th>\n",
       "      <td>Subject: re : research and development charges...</td>\n",
       "      <td>0</td>\n",
       "    </tr>\n",
       "    <tr>\n",
       "      <th>5724</th>\n",
       "      <td>Subject: re : receipts from visit  jim ,  than...</td>\n",
       "      <td>0</td>\n",
       "    </tr>\n",
       "    <tr>\n",
       "      <th>5725</th>\n",
       "      <td>Subject: re : enron case study update  wow ! a...</td>\n",
       "      <td>0</td>\n",
       "    </tr>\n",
       "    <tr>\n",
       "      <th>5726</th>\n",
       "      <td>Subject: re : interest  david ,  please , call...</td>\n",
       "      <td>0</td>\n",
       "    </tr>\n",
       "    <tr>\n",
       "      <th>5727</th>\n",
       "      <td>Subject: news : aurora 5 . 2 update  aurora ve...</td>\n",
       "      <td>0</td>\n",
       "    </tr>\n",
       "  </tbody>\n",
       "</table>\n",
       "<p>5728 rows × 2 columns</p>\n",
       "</div>"
      ],
      "text/plain": [
       "                                                   text  spam\n",
       "0     Subject: naturally irresistible your corporate...     1\n",
       "1     Subject: the stock trading gunslinger  fanny i...     1\n",
       "2     Subject: unbelievable new homes made easy  im ...     1\n",
       "3     Subject: 4 color printing special  request add...     1\n",
       "4     Subject: do not have money , get software cds ...     1\n",
       "...                                                 ...   ...\n",
       "5723  Subject: re : research and development charges...     0\n",
       "5724  Subject: re : receipts from visit  jim ,  than...     0\n",
       "5725  Subject: re : enron case study update  wow ! a...     0\n",
       "5726  Subject: re : interest  david ,  please , call...     0\n",
       "5727  Subject: news : aurora 5 . 2 update  aurora ve...     0\n",
       "\n",
       "[5728 rows x 2 columns]"
      ]
     },
     "execution_count": 3,
     "metadata": {},
     "output_type": "execute_result"
    }
   ],
   "source": [
    "df"
   ]
  },
  {
   "cell_type": "code",
   "execution_count": 4,
   "id": "b32f6f59",
   "metadata": {},
   "outputs": [
    {
     "data": {
      "text/plain": [
       "(5728, 2)"
      ]
     },
     "execution_count": 4,
     "metadata": {},
     "output_type": "execute_result"
    }
   ],
   "source": [
    "df.shape"
   ]
  },
  {
   "cell_type": "code",
   "execution_count": 5,
   "id": "27d9ede5",
   "metadata": {},
   "outputs": [],
   "source": [
    "#Dropping Duplicates Value\n",
    "df.drop_duplicates(inplace =  True)"
   ]
  },
  {
   "cell_type": "code",
   "execution_count": 6,
   "id": "6a33652e",
   "metadata": {},
   "outputs": [
    {
     "data": {
      "text/plain": [
       "(5695, 2)"
      ]
     },
     "execution_count": 6,
     "metadata": {},
     "output_type": "execute_result"
    }
   ],
   "source": [
    "df.shape"
   ]
  },
  {
   "cell_type": "code",
   "execution_count": 7,
   "id": "6bbb413e",
   "metadata": {},
   "outputs": [
    {
     "data": {
      "text/plain": [
       "text    0\n",
       "spam    0\n",
       "dtype: int64"
      ]
     },
     "execution_count": 7,
     "metadata": {},
     "output_type": "execute_result"
    }
   ],
   "source": [
    "#checking for invalid NaN or null values \n",
    "df.isnull().sum()"
   ]
  },
  {
   "cell_type": "code",
   "execution_count": 8,
   "id": "fbc90e46",
   "metadata": {},
   "outputs": [
    {
     "name": "stderr",
     "output_type": "stream",
     "text": [
      "[nltk_data] Downloading package stopwords to\n",
      "[nltk_data]     C:\\Users\\tanjil\\AppData\\Roaming\\nltk_data...\n",
      "[nltk_data]   Package stopwords is already up-to-date!\n"
     ]
    },
    {
     "data": {
      "text/plain": [
       "True"
      ]
     },
     "execution_count": 8,
     "metadata": {},
     "output_type": "execute_result"
    }
   ],
   "source": [
    "#downloading Stop Words for filtering out them from the text feature \n",
    "nltk.download('stopwords')"
   ]
  },
  {
   "cell_type": "code",
   "execution_count": 9,
   "id": "fc068bd9",
   "metadata": {},
   "outputs": [],
   "source": [
    "#this functions remove puntuation and stop words from any feature that has messages or strings\n",
    "def process_text(text):\n",
    "    \n",
    "    # remmove puntuation\n",
    "    \n",
    "    no_pun = [char for char in text if char not in string.punctuation]\n",
    "    no_pun = ''.join(no_pun)\n",
    "    \n",
    "    #remove stop words\n",
    "    \n",
    "    clean_words = [ word for word in no_pun.split() if word.lower() not in stopwords.words('english')]\n",
    "    \n",
    "    return clean_words    "
   ]
  },
  {
   "cell_type": "code",
   "execution_count": 10,
   "id": "2068e193",
   "metadata": {},
   "outputs": [
    {
     "data": {
      "text/plain": [
       "0       [Subject, naturally, irresistible, corporate, ...\n",
       "1       [Subject, stock, trading, gunslinger, fanny, m...\n",
       "2       [Subject, unbelievable, new, homes, made, easy...\n",
       "3       [Subject, 4, color, printing, special, request...\n",
       "4       [Subject, money, get, software, cds, software,...\n",
       "                              ...                        \n",
       "5723    [Subject, research, development, charges, gpg,...\n",
       "5724    [Subject, receipts, visit, jim, thanks, invita...\n",
       "5725    [Subject, enron, case, study, update, wow, day...\n",
       "5726    [Subject, interest, david, please, call, shirl...\n",
       "5727    [Subject, news, aurora, 5, 2, update, aurora, ...\n",
       "Name: text, Length: 5695, dtype: object"
      ]
     },
     "execution_count": 10,
     "metadata": {},
     "output_type": "execute_result"
    }
   ],
   "source": [
    "#implemnetation of the thfuction over the message column\n",
    "df['text'].apply(process_text)"
   ]
  },
  {
   "cell_type": "code",
   "execution_count": 11,
   "id": "cb5cebc1",
   "metadata": {},
   "outputs": [],
   "source": [
    "#convert a collection of text to matrix of tokens(represnetation of words ) counts in order to fetch the feature to model to learn\n",
    "\n",
    "from sklearn.feature_extraction.text import CountVectorizer\n",
    "message_bag_of_words = CountVectorizer(analyzer = process_text).fit_transform(df['text'])"
   ]
  },
  {
   "cell_type": "code",
   "execution_count": 12,
   "id": "79b12111",
   "metadata": {},
   "outputs": [
    {
     "data": {
      "text/plain": [
       "(5695, 37229)"
      ]
     },
     "execution_count": 12,
     "metadata": {},
     "output_type": "execute_result"
    }
   ],
   "source": [
    "#get the shape of messages_bow \n",
    "message_bag_of_words.shape"
   ]
  },
  {
   "cell_type": "code",
   "execution_count": 35,
   "id": "5abfa5c9",
   "metadata": {},
   "outputs": [],
   "source": [
    "from sklearn.model_selection import train_test_split\n",
    "x_train, x_test, y_train, y_test = train_test_split(message_bag_of_words, df['spam'],test_size = 0.2, random_state = 0)"
   ]
  },
  {
   "cell_type": "markdown",
   "id": "0206c922",
   "metadata": {},
   "source": [
    "### Decision Tree"
   ]
  },
  {
   "cell_type": "code",
   "execution_count": 36,
   "id": "7c19fd2d",
   "metadata": {},
   "outputs": [
    {
     "name": "stdout",
     "output_type": "stream",
     "text": [
      "\n",
      "Y_predict \n",
      "[1 0 0 ... 0 0 0]\n",
      "\n",
      "y_test \n",
      "[1 0 0 ... 0 0 0]\n",
      "\n",
      "classification_report \n",
      "              precision    recall  f1-score   support\n",
      "\n",
      "           0       0.97      0.98      0.97       870\n",
      "           1       0.94      0.90      0.92       269\n",
      "\n",
      "    accuracy                           0.96      1139\n",
      "   macro avg       0.95      0.94      0.95      1139\n",
      "weighted avg       0.96      0.96      0.96      1139\n",
      "\n",
      "\n",
      "confusion_matrix \n",
      "[[854  16]\n",
      " [ 28 241]]\n",
      "\n",
      " Accuracy Score \n",
      " 0.961369622475856\n"
     ]
    }
   ],
   "source": [
    "from sklearn.tree import DecisionTreeClassifier\n",
    "DecisionTree = DecisionTreeClassifier().fit(x_train,y_train)\n",
    "\n",
    "y_predict = DecisionTree.predict(x_test)\n",
    "print(f\"\\nY_predict \\n{y_predict}\")\n",
    "print(f\"\\ny_test \\n{y_test.values}\")\n",
    "#evaluate \n",
    "from sklearn.metrics import classification_report, confusion_matrix , accuracy_score\n",
    "print(f\"\\nclassification_report \\n{classification_report(y_test,y_predict)}\")\n",
    "print(f\"\\nconfusion_matrix \\n{confusion_matrix(y_test,y_predict)}\")\n",
    "print(f\"\\n Accuracy Score \\n {accuracy_score(y_test,y_predict)}\")"
   ]
  },
  {
   "cell_type": "markdown",
   "id": "54b80776",
   "metadata": {},
   "source": [
    "## naive Bayes MultinomialNB"
   ]
  },
  {
   "cell_type": "code",
   "execution_count": 37,
   "id": "94627a99",
   "metadata": {},
   "outputs": [
    {
     "name": "stdout",
     "output_type": "stream",
     "text": [
      "\n",
      "Y_predict \n",
      "[1 0 0 ... 0 0 0]\n",
      "\n",
      "y_test \n",
      "[1 0 0 ... 0 0 0]\n",
      "\n",
      "classification_report \n",
      "              precision    recall  f1-score   support\n",
      "\n",
      "           0       1.00      0.99      0.99       870\n",
      "           1       0.97      1.00      0.98       269\n",
      "\n",
      "    accuracy                           0.99      1139\n",
      "   macro avg       0.98      0.99      0.99      1139\n",
      "weighted avg       0.99      0.99      0.99      1139\n",
      "\n",
      "\n",
      "confusion_matrix \n",
      "[[862   8]\n",
      " [  1 268]]\n",
      "\n",
      " Accuracy Score \n",
      " 0.9920983318700615\n"
     ]
    }
   ],
   "source": [
    "#create and train the naive Bayes Classifier \n",
    "from sklearn.naive_bayes import MultinomialNB\n",
    "MultinomialNB = MultinomialNB().fit(x_train,y_train)\n",
    "y_predict = MultinomialNB.predict(x_test)\n",
    "print(f\"\\nY_predict \\n{y_predict}\")\n",
    "print(f\"\\ny_test \\n{y_test.values}\")\n",
    "#evaluate \n",
    "from sklearn.metrics import classification_report, confusion_matrix , accuracy_score\n",
    "print(f\"\\nclassification_report \\n{classification_report(y_test,y_predict)}\")\n",
    "print(f\"\\nconfusion_matrix \\n{confusion_matrix(y_test,y_predict)}\")\n",
    "print(f\"\\n Accuracy Score \\n {accuracy_score(y_test,y_predict)}\")"
   ]
  },
  {
   "cell_type": "markdown",
   "id": "0a7b98c3",
   "metadata": {},
   "source": [
    "### KNN(K- Nearest Neighbors) classifier ."
   ]
  },
  {
   "cell_type": "code",
   "execution_count": 38,
   "id": "9fb0916a",
   "metadata": {},
   "outputs": [
    {
     "name": "stdout",
     "output_type": "stream",
     "text": [
      "\n",
      "Y_predict \n",
      "[1 0 0 ... 0 0 0]\n",
      "\n",
      "y_test \n",
      "[1 0 0 ... 0 0 0]\n",
      "\n",
      "classification_report \n",
      "              precision    recall  f1-score   support\n",
      "\n",
      "           0       0.90      0.98      0.94       870\n",
      "           1       0.92      0.63      0.75       269\n",
      "\n",
      "    accuracy                           0.90      1139\n",
      "   macro avg       0.91      0.81      0.84      1139\n",
      "weighted avg       0.90      0.90      0.89      1139\n",
      "\n",
      "\n",
      "confusion_matrix \n",
      "[[855  15]\n",
      " [ 99 170]]\n",
      "\n",
      " Accuracy Score \n",
      " 0.8999122036874452\n"
     ]
    }
   ],
   "source": [
    "from sklearn.neighbors import KNeighborsClassifier\n",
    "knn = KNeighborsClassifier().fit(x_train,y_train)\n",
    "\n",
    "y_predict = knn.predict(x_test)\n",
    "print(f\"\\nY_predict \\n{y_predict}\")\n",
    "print(f\"\\ny_test \\n{y_test.values}\")\n",
    "#evaluate \n",
    "from sklearn.metrics import classification_report, confusion_matrix , accuracy_score\n",
    "print(f\"\\nclassification_report \\n{classification_report(y_test,y_predict)}\")\n",
    "print(f\"\\nconfusion_matrix \\n{confusion_matrix(y_test,y_predict)}\")\n",
    "print(f\"\\n Accuracy Score \\n {accuracy_score(y_test,y_predict)}\")"
   ]
  },
  {
   "cell_type": "markdown",
   "id": "ac44dffd",
   "metadata": {},
   "source": [
    "### Support Vector classifier."
   ]
  },
  {
   "cell_type": "code",
   "execution_count": 39,
   "id": "5a4d8da3",
   "metadata": {},
   "outputs": [
    {
     "name": "stdout",
     "output_type": "stream",
     "text": [
      "\n",
      "Y_predict \n",
      "[1 0 0 ... 0 0 0]\n",
      "\n",
      "y_test \n",
      "[1 0 0 ... 0 0 0]\n",
      "\n",
      "classification_report \n",
      "              precision    recall  f1-score   support\n",
      "\n",
      "           0       0.96      0.99      0.98       870\n",
      "           1       0.98      0.86      0.91       269\n",
      "\n",
      "    accuracy                           0.96      1139\n",
      "   macro avg       0.97      0.93      0.95      1139\n",
      "weighted avg       0.96      0.96      0.96      1139\n",
      "\n",
      "\n",
      "confusion_matrix \n",
      "[[865   5]\n",
      " [ 38 231]]\n",
      "\n",
      " Accuracy Score \n",
      " 0.9622475856014048\n"
     ]
    }
   ],
   "source": [
    "from sklearn.svm import SVC\n",
    "svc = SVC().fit(x_train,y_train)\n",
    "\n",
    "y_predict = svc.predict(x_test)\n",
    "print(f\"\\nY_predict \\n{y_predict}\")\n",
    "print(f\"\\ny_test \\n{y_test.values}\")\n",
    "#evaluate \n",
    "from sklearn.metrics import classification_report, confusion_matrix , accuracy_score\n",
    "print(f\"\\nclassification_report \\n{classification_report(y_test,y_predict)}\")\n",
    "print(f\"\\nconfusion_matrix \\n{confusion_matrix(y_test,y_predict)}\")\n",
    "print(f\"\\n Accuracy Score \\n {accuracy_score(y_test,y_predict)}\")"
   ]
  },
  {
   "cell_type": "markdown",
   "id": "ca357fef",
   "metadata": {},
   "source": [
    "### Ensamble Learning Algorithm"
   ]
  },
  {
   "cell_type": "code",
   "execution_count": 40,
   "id": "4761978e",
   "metadata": {},
   "outputs": [
    {
     "name": "stdout",
     "output_type": "stream",
     "text": [
      "\n",
      "Y_predict \n",
      "[1 0 0 ... 0 0 0]\n",
      "\n",
      "y_test \n",
      "[1 0 0 ... 0 0 0]\n",
      "\n",
      "classification_report \n",
      "              precision    recall  f1-score   support\n",
      "\n",
      "           0       0.96      1.00      0.98       870\n",
      "           1       1.00      0.85      0.92       269\n",
      "\n",
      "    accuracy                           0.96      1139\n",
      "   macro avg       0.98      0.93      0.95      1139\n",
      "weighted avg       0.97      0.96      0.96      1139\n",
      "\n",
      "\n",
      "confusion_matrix \n",
      "[[869   1]\n",
      " [ 40 229]]\n",
      "\n",
      " Accuracy Score \n",
      " 0.9640035118525022\n"
     ]
    }
   ],
   "source": [
    "from sklearn. ensemble import VotingClassifier\n",
    "votingClf = VotingClassifier(estimators=[('decisionTree',DecisionTree),\n",
    "('naiveBayes',MultinomialNB),('knn',knn),('svc',svc)],voting='hard')\n",
    "votingClf.fit(x_train,y_train)\n",
    "\n",
    "y_predict = votingClf.predict(x_test)\n",
    "print(f\"\\nY_predict \\n{y_predict}\")\n",
    "print(f\"\\ny_test \\n{y_test.values}\")\n",
    "#evaluate \n",
    "from sklearn.metrics import classification_report, confusion_matrix , accuracy_score\n",
    "print(f\"\\nclassification_report \\n{classification_report(y_test,y_predict)}\")\n",
    "print(f\"\\nconfusion_matrix \\n{confusion_matrix(y_test,y_predict)}\")\n",
    "print(f\"\\n Accuracy Score \\n {accuracy_score(y_test,y_predict)}\")"
   ]
  },
  {
   "cell_type": "markdown",
   "id": "4eb45245",
   "metadata": {},
   "source": [
    "### Bagging Classifier"
   ]
  },
  {
   "cell_type": "code",
   "execution_count": 41,
   "id": "222d6ced",
   "metadata": {},
   "outputs": [
    {
     "name": "stdout",
     "output_type": "stream",
     "text": [
      "\n",
      "Y_predict \n",
      "[1 0 0 ... 0 0 0]\n",
      "\n",
      "y_test \n",
      "[1 0 0 ... 0 0 0]\n",
      "\n",
      "classification_report \n",
      "              precision    recall  f1-score   support\n",
      "\n",
      "           0       0.97      0.98      0.97       870\n",
      "           1       0.94      0.89      0.92       269\n",
      "\n",
      "    accuracy                           0.96      1139\n",
      "   macro avg       0.95      0.94      0.95      1139\n",
      "weighted avg       0.96      0.96      0.96      1139\n",
      "\n",
      "\n",
      "confusion_matrix \n",
      "[[855  15]\n",
      " [ 29 240]]\n",
      "\n",
      " Accuracy Score \n",
      " 0.961369622475856\n"
     ]
    }
   ],
   "source": [
    "from sklearn.ensemble import BaggingClassifier\n",
    "bagging = BaggingClassifier(n_estimators=4)\n",
    "bagging.fit(x_train,y_train)\n",
    "\n",
    "y_predict = bagging.predict(x_test)\n",
    "print(f\"\\nY_predict \\n{y_predict}\")\n",
    "print(f\"\\ny_test \\n{y_test.values}\")\n",
    "#evaluate \n",
    "from sklearn.metrics import classification_report, confusion_matrix , accuracy_score\n",
    "print(f\"\\nclassification_report \\n{classification_report(y_test,y_predict)}\")\n",
    "print(f\"\\nconfusion_matrix \\n{confusion_matrix(y_test,y_predict)}\")\n",
    "print(f\"\\n Accuracy Score \\n {accuracy_score(y_test,y_predict)}\")"
   ]
  },
  {
   "cell_type": "markdown",
   "id": "25bd328b",
   "metadata": {},
   "source": [
    "### Ada Boost"
   ]
  },
  {
   "cell_type": "code",
   "execution_count": 42,
   "id": "6f106d33",
   "metadata": {},
   "outputs": [
    {
     "name": "stdout",
     "output_type": "stream",
     "text": [
      "\n",
      "Y_predict \n",
      "[1 0 0 ... 0 0 0]\n",
      "\n",
      "y_test \n",
      "[1 0 0 ... 0 0 0]\n",
      "\n",
      "classification_report \n",
      "              precision    recall  f1-score   support\n",
      "\n",
      "           0       0.98      0.87      0.92       870\n",
      "           1       0.69      0.96      0.80       269\n",
      "\n",
      "    accuracy                           0.89      1139\n",
      "   macro avg       0.84      0.91      0.86      1139\n",
      "weighted avg       0.92      0.89      0.89      1139\n",
      "\n",
      "\n",
      "confusion_matrix \n",
      "[[755 115]\n",
      " [ 12 257]]\n",
      "\n",
      " Accuracy Score \n",
      " 0.8884986830553117\n"
     ]
    }
   ],
   "source": [
    "from sklearn.ensemble import AdaBoostClassifier\n",
    "adaBoost = AdaBoostClassifier(n_estimators=4)\n",
    "adaBoost.fit(x_train,y_train)\n",
    "\n",
    "y_predict = adaBoost.predict(x_test)\n",
    "print(f\"\\nY_predict \\n{y_predict}\")\n",
    "print(f\"\\ny_test \\n{y_test.values}\")\n",
    "#evaluate \n",
    "from sklearn.metrics import classification_report, confusion_matrix , accuracy_score\n",
    "print(f\"\\nclassification_report \\n{classification_report(y_test,y_predict)}\")\n",
    "print(f\"\\nconfusion_matrix \\n{confusion_matrix(y_test,y_predict)}\")\n",
    "print(f\"\\n Accuracy Score \\n {accuracy_score(y_test,y_predict)}\")"
   ]
  },
  {
   "cell_type": "markdown",
   "id": "e0dd8bbe",
   "metadata": {},
   "source": [
    "### Random Forest Classifier"
   ]
  },
  {
   "cell_type": "code",
   "execution_count": 43,
   "id": "88e96671",
   "metadata": {},
   "outputs": [
    {
     "name": "stdout",
     "output_type": "stream",
     "text": [
      "\n",
      "Y_predict \n",
      "[1 0 0 ... 0 0 0]\n",
      "\n",
      "y_test \n",
      "[1 0 0 ... 0 0 0]\n",
      "\n",
      "classification_report \n",
      "              precision    recall  f1-score   support\n",
      "\n",
      "           0       0.94      1.00      0.97       870\n",
      "           1       0.98      0.81      0.89       269\n",
      "\n",
      "    accuracy                           0.95      1139\n",
      "   macro avg       0.96      0.90      0.93      1139\n",
      "weighted avg       0.95      0.95      0.95      1139\n",
      "\n",
      "\n",
      "confusion_matrix \n",
      "[[866   4]\n",
      " [ 52 217]]\n",
      "\n",
      " Accuracy Score \n",
      " 0.9508340649692713\n"
     ]
    }
   ],
   "source": [
    "from sklearn.ensemble import RandomForestClassifier\n",
    "randomForest = RandomForestClassifier(n_estimators=4)\n",
    "randomForest.fit(x_train,y_train)\n",
    "\n",
    "y_predict = randomForest.predict(x_test)\n",
    "print(f\"\\nY_predict \\n{y_predict}\")\n",
    "print(f\"\\ny_test \\n{y_test.values}\")\n",
    "#evaluate \n",
    "from sklearn.metrics import classification_report, confusion_matrix , accuracy_score\n",
    "print(f\"\\nclassification_report \\n{classification_report(y_test,y_predict)}\")\n",
    "print(f\"\\nconfusion_matrix \\n{confusion_matrix(y_test,y_predict)}\")\n",
    "print(f\"\\n Accuracy Score \\n {accuracy_score(y_test,y_predict)}\")"
   ]
  },
  {
   "cell_type": "code",
   "execution_count": 44,
   "id": "a8bcc5dc",
   "metadata": {},
   "outputs": [],
   "source": [
    "dict_acc ={'decisionTree':accuracy_score(y_test,DecisionTree.predict(x_test)),\n",
    "           'naiveBayes':accuracy_score(y_test,MultinomialNB.predict(x_test)),\n",
    "           'KNN':accuracy_score(y_test,knn.predict(x_test)),\n",
    "           'SVC':accuracy_score(y_test,svc.predict(x_test)),\n",
    "           'Ensemble_voting':accuracy_score(y_test,votingClf.predict(x_test)),\n",
    "           'bagging':accuracy_score(y_test,bagging.predict(x_test)),\n",
    "           'AdaBoost':accuracy_score(y_test,adaBoost.predict(x_test)),\n",
    "           'Random Forest':accuracy_score(y_test,randomForest.predict(x_test))\n",
    "           }"
   ]
  },
  {
   "cell_type": "code",
   "execution_count": 45,
   "id": "a5ecfba8",
   "metadata": {},
   "outputs": [
    {
     "name": "stdout",
     "output_type": "stream",
     "text": [
      "decisionTree\t\n",
      "\t0.961369622475856\n",
      "naiveBayes\t\n",
      "\t0.9920983318700615\n",
      "KNN\t\n",
      "\t0.8999122036874452\n",
      "SVC\t\n",
      "\t0.9622475856014048\n",
      "Ensemble_voting\t\n",
      "\t0.9640035118525022\n",
      "bagging\t\n",
      "\t0.961369622475856\n",
      "AdaBoost\t\n",
      "\t0.8884986830553117\n",
      "Random Forest\t\n",
      "\t0.9508340649692713\n"
     ]
    }
   ],
   "source": [
    "for i in dict_acc:\n",
    "    print(f\"{i}\\t\\n\\t{dict_acc[i]}\")"
   ]
  },
  {
   "cell_type": "code",
   "execution_count": 46,
   "id": "a115d78e",
   "metadata": {},
   "outputs": [
    {
     "data": {
      "image/png": "[encoded data removed]",
      "text/plain": [
       "<Figure size 720x576 with 1 Axes>"
      ]
     },
     "metadata": {
      "needs_background": "light"
     },
     "output_type": "display_data"
    }
   ],
   "source": [
    "keyes = [i for i in dict_acc]\n",
    "values = [dict_acc[i]for i in dict_acc]\n",
    "\n",
    "plt.figure(figsize=(10,8))\n",
    "plt.plot(keyes,values)\n",
    "plt.scatter(list(range(8)),values)\n",
    "\n",
    "plt.show()"
   ]
  },
  {
   "cell_type": "markdown",
   "id": "85553082",
   "metadata": {},
   "source": [
    "## Testing the perfomances with real time data"
   ]
  },
  {
   "cell_type": "code",
   "execution_count": 56,
   "id": "97dc37ad",
   "metadata": {},
   "outputs": [],
   "source": [
    "import glob\n",
    "csv_list=glob.glob(r\"C:\\Users\\tanjil\\Documents\\Python Scripts\\CLASS\\os\\*.csv\")"
   ]
  },
  {
   "cell_type": "code",
   "execution_count": 57,
   "id": "6bd4c9e7",
   "metadata": {},
   "outputs": [],
   "source": [
    "df_list = [pd.read_csv(csv_list[i]) for i in range(2,len(csv_list))]"
   ]
  },
  {
   "cell_type": "code",
   "execution_count": 58,
   "id": "90e7bef9",
   "metadata": {},
   "outputs": [],
   "source": [
    "concatanated_mails_text = []\n",
    "\n",
    "for i in df_list:\n",
    "    concatanated_mails_text=concatanated_mails_text+list(i['Subject'])"
   ]
  },
  {
   "cell_type": "code",
   "execution_count": 59,
   "id": "6d967116",
   "metadata": {},
   "outputs": [
    {
     "data": {
      "text/plain": [
       "0             [Microsoft, Excel, Learner, Professional]\n",
       "1                         [Statistical, Analysis, SPSS]\n",
       "2            [5, Trends, Higher, Education, Look, 2022]\n",
       "3     [Bdjobs, eLearning, utf8QE0A68FE0A6B6E0A781, u...\n",
       "4           [Save, Rewards, Points, Low, Fare, Flights]\n",
       "5     [Sunni, Marriage, Profiles, eBook, PDF, Downlo...\n",
       "6               [Delivery, Status, Notification, Delay]\n",
       "7               [Delivery, Status, Notification, Delay]\n",
       "8     [Master, Application, process, step, step, guide]\n",
       "9             [Delivery, Status, Notification, Failure]\n",
       "10                  [utf8B4pyIIFdlbGNvbWUsIFNwcmluZyEg]\n",
       "11                  [full, 4k, system, AI, dahua, cctv]\n",
       "12    [Following, documentinformation, required, pro...\n",
       "13    [EPFC, Votre, UTF8BcHJpb3JpdMOp, du, 15, au, 1...\n",
       "14    [Following, documentinformation, required, pro...\n",
       "15    [Following, documentinformation, required, pro...\n",
       "16                                    [utf8QHello20Pal]\n",
       "17    [0406000015242309, Transaction, Release, Compl...\n",
       "18    [UTF8QTopWaysToSimplifyBusinessCommunicationF0...\n",
       "19    [utf8QE0A6B8E0A6BEE0A6B2E0A6BEE0A6AE20E0A6ACE0...\n",
       "20    [Explore, 1, TopRanked, Business, School, Irel...\n",
       "21    [UTF8B4Kaq4KeN4Kaw4Kak4Ka4Kay4Ka4Kaq4KaIOCmhuC...\n",
       "22    [utf8QE0A6B8E0A6BEE0A6B2E0A6BEE0A6AE20E0A6ACE0...\n",
       "23    [utf8BTUVhc3kgKFBoYXNlIElJKSDgpobgpqrgpqjgpr7g...\n",
       "24    [UTF8B4Kaq4KeN4Kaw4KaV4Ka4Ka2IOCmleCmsA, UTF8B...\n",
       "25                          [Stay, Tuned, News, coming]\n",
       "26                           [accurate, open, tracking]\n",
       "27                      [Thought, Leadership, beecrowd]\n",
       "28     [Youre, invited, firstever, conference, ReplCon]\n",
       "29    [Bdjobs, Offering, 10, Discount, Bkash, Online...\n",
       "30         [Bdjobs, Complete, resume, land, dream, job]\n",
       "31                                [good, enough, prove]\n",
       "32    [NEW, HOMES, 2, new, properties, matches, wish...\n",
       "33          [utf8QE29CA8F09F90A220We20Love20the20Earth]\n",
       "34    [NEW, HOMES, 27, new, properties, matches, wis...\n",
       "35    [utf8B4KaG4Kaq4Kao4Ka4KawIOCmruCnguCmsuCnjeCmr...\n",
       "36           [New, User, Profile, Section, Stay, Tuned]\n",
       "37                                                [end]\n",
       "38    [Tax, deduction, Family, support, abroad, post...\n",
       "39            [HBO, Max, Free, Trial, posted, moundher]\n",
       "40    [Best, way, relocate, Belgium, kids, posted, m...\n",
       "41    [Inquiry, regarding, Dvisa, processing, time, ...\n",
       "42    [Single, permit, family, reunification, visa, ...\n",
       "43    [application, type, visa, C, visa, posted, kke...\n",
       "44    [Buy, Driving, License, Belgium, posted, arche...\n",
       "45    [Contract, work, living, Belgium, posted, Saiy...\n",
       "46    [Tax, form, nonworking, card, holder, posted, ...\n",
       "47      [Permit, Brussels, Region, posted, stanamaze11]\n",
       "48                     [annex, 37, posted, shahsimmy07]\n",
       "Name: text_real, dtype: object"
      ]
     },
     "execution_count": 59,
     "metadata": {},
     "output_type": "execute_result"
    }
   ],
   "source": [
    "reaL_val=pd.DataFrame()\n",
    "reaL_val['text_real']=concatanated_mails_text\n",
    "reaL_val['text_real'].apply(process_text)"
   ]
  },
  {
   "cell_type": "code",
   "execution_count": 62,
   "id": "499665e1",
   "metadata": {},
   "outputs": [],
   "source": [
    "x_test = CountVectorizer(analyzer = process_text).fit_transform(reaL_val['text_real'])"
   ]
  },
  {
   "cell_type": "code",
   "execution_count": 63,
   "id": "9c527913",
   "metadata": {},
   "outputs": [
    {
     "name": "stdout",
     "output_type": "stream",
     "text": [
      "decisionTree\t\n",
      "\t0.961369622475856\n",
      "naiveBayes\t\n",
      "\t0.9920983318700615\n",
      "KNN\t\n",
      "\t0.8999122036874452\n",
      "SVC\t\n",
      "\t0.9622475856014048\n",
      "Ensemble_voting\t\n",
      "\t0.9640035118525022\n",
      "bagging\t\n",
      "\t0.961369622475856\n",
      "AdaBoost\t\n",
      "\t0.8884986830553117\n",
      "Random Forest\t\n",
      "\t0.9508340649692713\n"
     ]
    }
   ],
   "source": [
    "for i in dict_acc:\n",
    "    print(f\"{i}\\t\\n\\t{dict_acc[i]}\")"
   ]
  },
  {
   "cell_type": "code",
   "execution_count": 64,
   "id": "bff1e8c2",
   "metadata": {},
   "outputs": [
    {
     "data": {
      "image/png": "[encoded data removed]",
      "text/plain": [
       "<Figure size 720x576 with 1 Axes>"
      ]
     },
     "metadata": {
      "needs_background": "light"
     },
     "output_type": "display_data"
    }
   ],
   "source": [
    "keyes = [i for i in dict_acc]\n",
    "values = [dict_acc[i]for i in dict_acc]\n",
    "\n",
    "plt.figure(figsize=(10,8))\n",
    "plt.plot(keyes,values)\n",
    "plt.scatter(list(range(8)),values)\n",
    "\n",
    "plt.show()"
   ]
  },
  {
   "cell_type": "code",
   "execution_count": 66,
   "id": "399f4088",
   "metadata": {},
   "outputs": [],
   "source": [
    "import json\n",
    "with open(\"email_model.json\", \"w\") as fp:\n",
    "    json.dump(dict_acc,fp)"
   ]
  },
  {
   "cell_type": "code",
   "execution_count": null,
   "id": "a21dfd8a",
   "metadata": {},
   "outputs": [],
   "source": []
  }
 ],
 "metadata": {
  "kernelspec": {
   "display_name": "Python 3 (ipykernel)",
   "language": "python",
   "name": "python3"
  },
  "language_info": {
   "codemirror_mode": {
    "name": "ipython",
    "version": 3
   },
   "file_extension": ".py",
   "mimetype": "text/x-python",
   "name": "python",
   "nbconvert_exporter": "python",
   "pygments_lexer": "ipython3",
   "version": "3.7.11"
  }
 },
 "nbformat": 4,
 "nbformat_minor": 5
}
