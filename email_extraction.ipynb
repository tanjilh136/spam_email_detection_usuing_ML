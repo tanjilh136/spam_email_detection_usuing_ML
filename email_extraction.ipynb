{
 "cells": [
  {
   "cell_type": "code",
   "execution_count": 2,
   "id": "a2a356a6",
   "metadata": {},
   "outputs": [],
   "source": [
    "import email\n",
    "import imaplib"
   ]
  },
  {
   "cell_type": "markdown",
   "id": "aa5a7c6c",
   "metadata": {},
   "source": [
    "### Enter Credentials "
   ]
  },
  {
   "cell_type": "code",
   "execution_count": 92,
   "id": "f36c6bb0",
   "metadata": {},
   "outputs": [],
   "source": [
    "Username ='-----------'\n",
    "Password ='-------'"
   ]
  },
  {
   "cell_type": "markdown",
   "id": "af74cc93",
   "metadata": {},
   "source": [
    "### establish the connection \n",
    "#### Before establshing one need to do make sure few things \n",
    "##### -two step verification should be turned off\n",
    "##### - https://myaccount.google.com/lesssecureapps?pli=1 go to this link to turn on the access \n",
    "##### - Now in gmail setting there is a fetaure named forwarding and POP / IMAP under that section we have to enable the IMAP"
   ]
  },
  {
   "cell_type": "code",
   "execution_count": 93,
   "id": "49d6d0d1",
   "metadata": {},
   "outputs": [
    {
     "data": {
      "text/plain": [
       "('OK', [b'tanjil15-1015@diu.edu.bd authenticated (Success)'])"
      ]
     },
     "execution_count": 93,
     "metadata": {},
     "output_type": "execute_result"
    }
   ],
   "source": [
    "mail = imaplib.IMAP4_SSL(\"imap.gmail.com\")\n",
    "mail.login(Username,Password)"
   ]
  },
  {
   "cell_type": "code",
   "execution_count": 94,
   "id": "01261a6f",
   "metadata": {},
   "outputs": [
    {
     "data": {
      "text/plain": [
       "('OK', [b'6350'])"
      ]
     },
     "execution_count": 94,
     "metadata": {},
     "output_type": "execute_result"
    }
   ],
   "source": [
    "mail.select(\"inbox\")"
   ]
  },
  {
   "cell_type": "code",
   "execution_count": 95,
   "id": "6ddb747d",
   "metadata": {},
   "outputs": [
    {
     "data": {
      "text/plain": [
       "('OK',\n",
       " [b'(\\\\HasNoChildren) \"/\" \"Boxbe Waiting List\"',\n",
       "  b'(\\\\HasNoChildren) \"/\" \"Drag-1#To Do\"',\n",
       "  b'(\\\\HasNoChildren) \"/\" \"Drag-2#Doing\"',\n",
       "  b'(\\\\HasNoChildren) \"/\" \"Drag-3#Done\"',\n",
       "  b'(\\\\HasNoChildren) \"/\" \"Drag-Shared\"',\n",
       "  b'(\\\\HasNoChildren) \"/\" \"INBOX\"',\n",
       "  b'(\\\\HasNoChildren) \"/\" \"My Tasks\"',\n",
       "  b'(\\\\HasChildren \\\\Noselect) \"/\" \"[Gmail]\"',\n",
       "  b'(\\\\All \\\\HasNoChildren) \"/\" \"[Gmail]/All Mail\"',\n",
       "  b'(\\\\Drafts \\\\HasNoChildren) \"/\" \"[Gmail]/Drafts\"',\n",
       "  b'(\\\\HasNoChildren \\\\Important) \"/\" \"[Gmail]/Important\"',\n",
       "  b'(\\\\HasNoChildren \\\\Sent) \"/\" \"[Gmail]/Sent Mail\"',\n",
       "  b'(\\\\HasNoChildren \\\\Junk) \"/\" \"[Gmail]/Spam\"',\n",
       "  b'(\\\\Flagged \\\\HasNoChildren) \"/\" \"[Gmail]/Starred\"',\n",
       "  b'(\\\\HasNoChildren \\\\Trash) \"/\" \"[Gmail]/Trash\"'])"
      ]
     },
     "execution_count": 95,
     "metadata": {},
     "output_type": "execute_result"
    }
   ],
   "source": [
    "root_list = mail.list()\n",
    "mail.list()"
   ]
  },
  {
   "cell_type": "code",
   "execution_count": 96,
   "id": "c3c70b51",
   "metadata": {},
   "outputs": [
    {
     "data": {
      "text/plain": [
       "('OK', [b'0'])"
      ]
     },
     "execution_count": 96,
     "metadata": {},
     "output_type": "execute_result"
    }
   ],
   "source": [
    "mail.select(\"[Gmail]/Spam\")"
   ]
  },
  {
   "cell_type": "code",
   "execution_count": 97,
   "id": "9bb0dc11",
   "metadata": {},
   "outputs": [],
   "source": [
    "result,data = mail.uid(\"search\",None,\"ALL\")"
   ]
  },
  {
   "cell_type": "code",
   "execution_count": 98,
   "id": "7be70ded",
   "metadata": {},
   "outputs": [
    {
     "data": {
      "text/plain": [
       "[b'']"
      ]
     },
     "execution_count": 98,
     "metadata": {},
     "output_type": "execute_result"
    }
   ],
   "source": [
    "data"
   ]
  },
  {
   "cell_type": "code",
   "execution_count": 99,
   "id": "aee2a753",
   "metadata": {},
   "outputs": [
    {
     "data": {
      "text/plain": [
       "[]"
      ]
     },
     "execution_count": 99,
     "metadata": {},
     "output_type": "execute_result"
    }
   ],
   "source": [
    "spam_item_list= data[0].split()\n",
    "spam_item_list"
   ]
  },
  {
   "cell_type": "code",
   "execution_count": 100,
   "id": "6b077192",
   "metadata": {},
   "outputs": [],
   "source": [
    "subject=[]\n",
    "sender =[]\n",
    "receiver = []\n",
    "Date = []\n",
    "\n",
    "for i in spam_item_list:\n",
    "    _,mail_content = mail.uid('fetch',i,'(RFC822)')\n",
    "    email_raw =  mail_content[0][1].decode('utf-8')\n",
    "    email_raw_string = email.message_from_string(email_raw)\n",
    "    subject.append(email_raw_string['Subject'])\n",
    "    receiver.append(email_raw_string['To'])\n",
    "    sender.append(email_raw_string['From'])\n",
    "    Date.append(email_raw_string['Date'])"
   ]
  },
  {
   "cell_type": "code",
   "execution_count": 88,
   "id": "547944fd",
   "metadata": {},
   "outputs": [],
   "source": [
    "import pandas as pd\n",
    "\n",
    "df = pd.DataFrame()\n",
    "df['Date'] = Date\n",
    "df['From'] = sender\n",
    "df ['To'] = receiver\n",
    "df['Subject'] = subject"
   ]
  },
  {
   "cell_type": "code",
   "execution_count": 89,
   "id": "b99ac47a",
   "metadata": {},
   "outputs": [
    {
     "data": {
      "text/html": [
       "<div>\n",
       "<style scoped>\n",
       "    .dataframe tbody tr th:only-of-type {\n",
       "        vertical-align: middle;\n",
       "    }\n",
       "\n",
       "    .dataframe tbody tr th {\n",
       "        vertical-align: top;\n",
       "    }\n",
       "\n",
       "    .dataframe thead th {\n",
       "        text-align: right;\n",
       "    }\n",
       "</style>\n",
       "<table border=\"1\" class=\"dataframe\">\n",
       "  <thead>\n",
       "    <tr style=\"text-align: right;\">\n",
       "      <th></th>\n",
       "      <th>Date</th>\n",
       "      <th>From</th>\n",
       "      <th>To</th>\n",
       "      <th>Subject</th>\n",
       "    </tr>\n",
       "  </thead>\n",
       "  <tbody>\n",
       "    <tr>\n",
       "      <th>0</th>\n",
       "      <td>Tue, 15 Mar 2022 15:32:04 +0000</td>\n",
       "      <td>beecrowd &lt;no-reply@beecrowd.com.br&gt;</td>\n",
       "      <td>tanjil hasan &lt;tanjilh136@gmail.com&gt;</td>\n",
       "      <td>Stay Tuned! News are coming...</td>\n",
       "    </tr>\n",
       "    <tr>\n",
       "      <th>1</th>\n",
       "      <td>Wed, 16 Mar 2022 11:27:39 +0000 (UTC)</td>\n",
       "      <td>Ajay Goel &lt;ajay@wordzen.com&gt;</td>\n",
       "      <td>tanjilh136@gmail.com</td>\n",
       "      <td>more accurate open tracking</td>\n",
       "    </tr>\n",
       "    <tr>\n",
       "      <th>2</th>\n",
       "      <td>Mon, 21 Mar 2022 03:08:12 +0000</td>\n",
       "      <td>beecrowd &lt;no-reply@beecrowd.com.br&gt;</td>\n",
       "      <td>tanjil hasan &lt;tanjilh136@gmail.com&gt;</td>\n",
       "      <td>Thought Leadership - beecrowd</td>\n",
       "    </tr>\n",
       "    <tr>\n",
       "      <th>3</th>\n",
       "      <td>Wed, 23 Mar 2022 15:46:55 +0000 (UTC)</td>\n",
       "      <td>Nathan &lt;contact@repl.it&gt;</td>\n",
       "      <td>tanjilh136@gmail.com</td>\n",
       "      <td>You're invited to our first-ever conference: R...</td>\n",
       "    </tr>\n",
       "    <tr>\n",
       "      <th>4</th>\n",
       "      <td>Thu, 24 Mar 2022 14:51:33 +0000</td>\n",
       "      <td>Bdjobs eLearning &lt;host@bdjobsemail.com&gt;</td>\n",
       "      <td>\"tanjilh136@gmail.com\" &lt;tanjilh136@gmail.com&gt;</td>\n",
       "      <td>Bdjobs Offering 10% Discount on Bkash or Onlin...</td>\n",
       "    </tr>\n",
       "    <tr>\n",
       "      <th>5</th>\n",
       "      <td>Fri, 25 Mar 2022 08:07:25 +0600</td>\n",
       "      <td>\"Bdjobs.com Notification Center\" &lt;noreply.mybd...</td>\n",
       "      <td>\"Tanjil Hasan\" &lt;tanjilh136@gmail.com&gt;</td>\n",
       "      <td>My Bdjobs: Complete your resume to land your d...</td>\n",
       "    </tr>\n",
       "    <tr>\n",
       "      <th>6</th>\n",
       "      <td>Fri, 25 Mar 2022 04:56:20 +0000</td>\n",
       "      <td>beecrowd &lt;no-reply@beecrowd.com.br&gt;</td>\n",
       "      <td>tanjil hasan &lt;tanjilh136@gmail.com&gt;</td>\n",
       "      <td>Are you good enough? So prove it!</td>\n",
       "    </tr>\n",
       "    <tr>\n",
       "      <th>7</th>\n",
       "      <td>Sat, 26 Mar 2022 17:26:09 +0000</td>\n",
       "      <td>Rentola &lt;info@rentola.com&gt;</td>\n",
       "      <td>tanjilh136@gmail.com</td>\n",
       "      <td>NEW HOMES: 2 new properties matches your wishe...</td>\n",
       "    </tr>\n",
       "    <tr>\n",
       "      <th>8</th>\n",
       "      <td>Mon, 28 Mar 2022 16:02:49 +0000</td>\n",
       "      <td>=?utf-8?Q?Lil=20Dicky?= &lt;admin@welovetheearth....</td>\n",
       "      <td>&lt;tanjilh136@gmail.com&gt;</td>\n",
       "      <td>=?utf-8?Q?=E2=9C=A8=F0=9F=90=A2=20We=20Love=20...</td>\n",
       "    </tr>\n",
       "    <tr>\n",
       "      <th>9</th>\n",
       "      <td>Tue, 29 Mar 2022 07:30:46 +0000</td>\n",
       "      <td>Rentola &lt;info@rentola.com&gt;</td>\n",
       "      <td>tanjilh136@gmail.com</td>\n",
       "      <td>NEW HOMES: 27 new properties matches your wish...</td>\n",
       "    </tr>\n",
       "    <tr>\n",
       "      <th>10</th>\n",
       "      <td>Wed, 30 Mar 2022 23:28:43 +0000</td>\n",
       "      <td>Bdjobs eLearning &lt;host@bdjobsemail.com&gt;</td>\n",
       "      <td>\"tanjilh136@gmail.com\" &lt;tanjilh136@gmail.com&gt;</td>\n",
       "      <td>=?utf-8?B?4KaG4Kaq4Kao4Ka+4KawIOCmruCnguCmsuCn...</td>\n",
       "    </tr>\n",
       "    <tr>\n",
       "      <th>11</th>\n",
       "      <td>Thu, 7 Apr 2022 12:34:38 +0000</td>\n",
       "      <td>beecrowd &lt;no-reply@beecrowd.com.br&gt;</td>\n",
       "      <td>tanjil hasan &lt;tanjilh136@gmail.com&gt;</td>\n",
       "      <td>New User Profile Section - Stay Tuned!</td>\n",
       "    </tr>\n",
       "    <tr>\n",
       "      <th>12</th>\n",
       "      <td>Fri, 08 Apr 2022 01:15:35 +0000 (UTC)</td>\n",
       "      <td>Patrick &lt;info@patrickadairdesigns.com&gt;</td>\n",
       "      <td>tanjilh136@gmail.com</td>\n",
       "      <td>This is the end. . .</td>\n",
       "    </tr>\n",
       "  </tbody>\n",
       "</table>\n",
       "</div>"
      ],
      "text/plain": [
       "                                     Date  \\\n",
       "0         Tue, 15 Mar 2022 15:32:04 +0000   \n",
       "1   Wed, 16 Mar 2022 11:27:39 +0000 (UTC)   \n",
       "2         Mon, 21 Mar 2022 03:08:12 +0000   \n",
       "3   Wed, 23 Mar 2022 15:46:55 +0000 (UTC)   \n",
       "4         Thu, 24 Mar 2022 14:51:33 +0000   \n",
       "5         Fri, 25 Mar 2022 08:07:25 +0600   \n",
       "6         Fri, 25 Mar 2022 04:56:20 +0000   \n",
       "7         Sat, 26 Mar 2022 17:26:09 +0000   \n",
       "8         Mon, 28 Mar 2022 16:02:49 +0000   \n",
       "9         Tue, 29 Mar 2022 07:30:46 +0000   \n",
       "10        Wed, 30 Mar 2022 23:28:43 +0000   \n",
       "11         Thu, 7 Apr 2022 12:34:38 +0000   \n",
       "12  Fri, 08 Apr 2022 01:15:35 +0000 (UTC)   \n",
       "\n",
       "                                                 From  \\\n",
       "0                 beecrowd <no-reply@beecrowd.com.br>   \n",
       "1                        Ajay Goel <ajay@wordzen.com>   \n",
       "2                 beecrowd <no-reply@beecrowd.com.br>   \n",
       "3                            Nathan <contact@repl.it>   \n",
       "4             Bdjobs eLearning <host@bdjobsemail.com>   \n",
       "5   \"Bdjobs.com Notification Center\" <noreply.mybd...   \n",
       "6                 beecrowd <no-reply@beecrowd.com.br>   \n",
       "7                          Rentola <info@rentola.com>   \n",
       "8   =?utf-8?Q?Lil=20Dicky?= <admin@welovetheearth....   \n",
       "9                          Rentola <info@rentola.com>   \n",
       "10            Bdjobs eLearning <host@bdjobsemail.com>   \n",
       "11                beecrowd <no-reply@beecrowd.com.br>   \n",
       "12             Patrick <info@patrickadairdesigns.com>   \n",
       "\n",
       "                                               To  \\\n",
       "0             tanjil hasan <tanjilh136@gmail.com>   \n",
       "1                            tanjilh136@gmail.com   \n",
       "2             tanjil hasan <tanjilh136@gmail.com>   \n",
       "3                            tanjilh136@gmail.com   \n",
       "4   \"tanjilh136@gmail.com\" <tanjilh136@gmail.com>   \n",
       "5           \"Tanjil Hasan\" <tanjilh136@gmail.com>   \n",
       "6             tanjil hasan <tanjilh136@gmail.com>   \n",
       "7                            tanjilh136@gmail.com   \n",
       "8                          <tanjilh136@gmail.com>   \n",
       "9                            tanjilh136@gmail.com   \n",
       "10  \"tanjilh136@gmail.com\" <tanjilh136@gmail.com>   \n",
       "11            tanjil hasan <tanjilh136@gmail.com>   \n",
       "12                           tanjilh136@gmail.com   \n",
       "\n",
       "                                              Subject  \n",
       "0                      Stay Tuned! News are coming...  \n",
       "1                         more accurate open tracking  \n",
       "2                       Thought Leadership - beecrowd  \n",
       "3   You're invited to our first-ever conference: R...  \n",
       "4   Bdjobs Offering 10% Discount on Bkash or Onlin...  \n",
       "5   My Bdjobs: Complete your resume to land your d...  \n",
       "6                   Are you good enough? So prove it!  \n",
       "7   NEW HOMES: 2 new properties matches your wishe...  \n",
       "8   =?utf-8?Q?=E2=9C=A8=F0=9F=90=A2=20We=20Love=20...  \n",
       "9   NEW HOMES: 27 new properties matches your wish...  \n",
       "10  =?utf-8?B?4KaG4Kaq4Kao4Ka+4KawIOCmruCnguCmsuCn...  \n",
       "11             New User Profile Section - Stay Tuned!  \n",
       "12                               This is the end. . .  "
      ]
     },
     "execution_count": 89,
     "metadata": {},
     "output_type": "execute_result"
    }
   ],
   "source": [
    "df"
   ]
  },
  {
   "cell_type": "code",
   "execution_count": 90,
   "id": "0da25507",
   "metadata": {},
   "outputs": [],
   "source": [
    "name = Username.replace(\"@gmail.com\",\"\")"
   ]
  },
  {
   "cell_type": "code",
   "execution_count": 91,
   "id": "0cb6de61",
   "metadata": {},
   "outputs": [],
   "source": [
    "df.to_csv(f\"{name}.csv\",index=False)"
   ]
  },
  {
   "cell_type": "code",
   "execution_count": null,
   "id": "c7e649da",
   "metadata": {},
   "outputs": [],
   "source": []
  }
 ],
 "metadata": {
  "kernelspec": {
   "display_name": "Python 3 (ipykernel)",
   "language": "python",
   "name": "python3"
  },
  "language_info": {
   "codemirror_mode": {
    "name": "ipython",
    "version": 3
   },
   "file_extension": ".py",
   "mimetype": "text/x-python",
   "name": "python",
   "nbconvert_exporter": "python",
   "pygments_lexer": "ipython3",
   "version": "3.7.11"
  }
 },
 "nbformat": 4,
 "nbformat_minor": 5
}
